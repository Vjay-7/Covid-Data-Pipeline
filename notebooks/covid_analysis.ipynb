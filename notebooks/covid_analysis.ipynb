{
 "cells": [
  {
   "cell_type": "code",
   "execution_count": null,
   "metadata": {},
   "outputs": [],
   "source": [
    "import pandas as pd\n",
    "import sqlite3\n",
    "import matplotlib.pyplot as plt\n",
    "import seaborn as sns\n"
   ]
  },
  {
   "cell_type": "code",
   "execution_count": null,
   "metadata": {},
   "outputs": [],
   "source": [
    "# Connect to SQLite database\n",
    "conn = sqlite3.connect('../data/covid_analytics.db')\n",
    "\n",
    "# Continent Summary\n",
    "continent_summary = pd.read_sql_query(\"SELECT * FROM continent_summary\", conn)\n",
    "\n",
    "# Visualization 1: Continent-wise Total Cases\n",
    "plt.figure(figsize=(10, 6))\n",
    "sns.barplot(x='Continent', y='Total_Continental_Cases', data=continent_summary)\n",
    "plt.title('Total COVID-19 Cases by Continent')\n",
    "plt.xticks(rotation=45)\n",
    "plt.tight_layout()\n",
    "plt.savefig('../data/continent_cases.png')\n"
   ]
  },
  {
   "cell_type": "code",
   "execution_count": null,
   "metadata": {},
   "outputs": [],
   "source": [
    "# Top Affected Countries\n",
    "top_countries = pd.read_sql_query(\"SELECT * FROM top_affected_countries\", conn)\n",
    "\n",
    "# Visualization 2: Top Countries Comparison\n",
    "plt.figure(figsize=(12, 6))\n",
    "plt.subplot(1, 2, 1)\n",
    "sns.barplot(x='Country', y='Total_Cases', data=top_countries)\n",
    "plt.title('Total Cases')\n",
    "plt.xticks(rotation=45)\n",
    "\n",
    "plt.subplot(1, 2, 2)\n",
    "sns.barplot(x='Country', y='Total_Deaths', data=top_countries)\n",
    "plt.title('Total Deaths')\n",
    "plt.xticks(rotation=45)\n",
    "\n",
    "plt.tight_layout()\n",
    "plt.savefig('../data/top_countries_comparison.png')\n",
    "\n",
    "conn.close()"
   ]
  }
 ],
 "metadata": {
  "kernelspec": {
   "display_name": "Python 3",
   "language": "python",
   "name": "python3"
  },
  "language_info": {
   "name": "python",
   "version": "3.11.5"
  }
 },
 "nbformat": 4,
 "nbformat_minor": 2
}
